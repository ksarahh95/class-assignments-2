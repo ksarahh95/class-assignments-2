{
 "cells": [
  {
   "cell_type": "code",
   "execution_count": null,
   "metadata": {
    "collapsed": false
   },
   "outputs": [],
   "source": [
    "nature_bird = {}\n",
    "ff = open(\"formatted.nature.csv\", \"r\", encoding = \"ISO-8859-15\")\n",
    "#need to encode with this ISO to allow system to read formatted nature.csv\n",
    "ss = ff.readlines()[1:]\n",
    "for line in ss:\n",
    "    sp = line.split(\",\")[0]\n",
    "    fam = line.split(\",\")[2]\n",
    "    nature_bird[sp] = fam\n",
    "#takes species and family and combine them togethre\n",
    "ff.close()"
   ]
  },
  {
   "cell_type": "code",
   "execution_count": null,
   "metadata": {
    "collapsed": true
   },
   "outputs": [],
   "source": [
    "nature_bird"
   ]
  },
  {
   "cell_type": "code",
   "execution_count": null,
   "metadata": {
    "collapsed": true
   },
   "outputs": [],
   "source": [
    "def makebirdDict(filename):\n",
    "    birdDict = {}\n",
    "    fobj = open(filename, \"r\", encoding = \"ISO-8859-15\")\n",
    "    all_records = fobj.readlines()[1:]\n",
    "    for line in all records:\n",
    "        record_elements = line.split(\",\")\n",
    "        species = record_elements[0]\n",
    "        family = record_elements[2]\n",
    "        birdDict[species] = family\n",
    "    return birdDict"
   ]
  },
  {
   "cell_type": "code",
   "execution_count": null,
   "metadata": {
    "collapsed": true
   },
   "outputs": [],
   "source": [
    "bird = makebirdDict(\"formatted.nature.csv\") # calls the function and creates dictionary\n",
    "species = list(bird.keys()) # makes list of the species\n",
    "species.sort() #internally sorts elements of the species, sorted alphabetically\n",
    "first_species = species[1]\n",
    "first_fam = bird[first_species]\n",
    "print(first_species, first_fam)\n",
    "print(\"family of \" + species[1] + \" is \" + bird[species[1]]) # recalls family of the species of the first alphabetical species"
   ]
  }
 ],
 "metadata": {
  "kernelspec": {
   "display_name": "Python 3",
   "language": "python",
   "name": "python3"
  },
  "language_info": {
   "codemirror_mode": {
    "name": "ipython",
    "version": 3
   },
   "file_extension": ".py",
   "mimetype": "text/x-python",
   "name": "python",
   "nbconvert_exporter": "python",
   "pygments_lexer": "ipython3",
   "version": "3.5.2"
  }
 },
 "nbformat": 4,
 "nbformat_minor": 2
}
