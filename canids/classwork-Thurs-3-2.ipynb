{
 "cells": [
  {
   "cell_type": "code",
   "execution_count": null,
   "metadata": {
    "collapsed": true
   },
   "outputs": [],
   "source": [
    "##open the file\n",
    "\n",
    "infile= \"cleaned_canids.csv\"\n",
    "with open(infile, \"r\") as ff:\n",
    "    canid_recs=ff.readlines()"
   ]
  },
  {
   "cell_type": "code",
   "execution_count": null,
   "metadata": {
    "collapsed": true
   },
   "outputs": [],
   "source": [
    "from collections import defaultdict\n",
    "species_ranges=defaultdict(list)\n",
    "\n",
    "# make a dictionary\n",
    "canid_recs\n",
    "for line in canid_recs:\n",
    "    species=line.split(\",\")[5]\n",
    "    minage=line.split('\",\"')[10]\n",
    "    maxage=line.split('\",\"')[11]\n",
    "    mean_age=(float(minage) + float(maxage)) /2\n",
    "    \n",
    "     # add species as keys and ...\n",
    "    species_ranges[species].append(mean_age)"
   ]
  },
  {
   "cell_type": "code",
   "execution_count": null,
   "metadata": {
    "collapsed": false
   },
   "outputs": [],
   "source": [
    "output=open(\"canids-ranges.csv\",\"w\")\n",
    "\n",
    "#get the oldest and youngest ages of fossils\n",
    "#for each species in species_ranges\n",
    "for key in species_ranges.keys():\n",
    "    ages=species_ranges[key]\n",
    "    minage=min(ages)\n",
    "    maxage=max(ages)\n",
    "    genus=key.split(\" \")[0]\n",
    "    print(genus,key,minage,maxage)\n",
    "    \n",
    "    outline=\"{}.{},{},{}\\n\".format(genus,species,minage,maxage)\n",
    "    \n",
    "    print(outline)\n",
    "    #output.write(outline)"
   ]
  },
  {
   "cell_type": "markdown",
   "metadata": {},
   "source": [
    "# having issues with getting output. Won't give output when shift + enter\n",
    "# will try fixing this later"
   ]
  },
  {
   "cell_type": "code",
   "execution_count": null,
   "metadata": {
    "collapsed": true
   },
   "outputs": [],
   "source": []
  }
 ],
 "metadata": {
  "kernelspec": {
   "display_name": "Python 3",
   "language": "python",
   "name": "python3"
  },
  "language_info": {
   "codemirror_mode": {
    "name": "ipython",
    "version": 3
   },
   "file_extension": ".py",
   "mimetype": "text/x-python",
   "name": "python",
   "nbconvert_exporter": "python",
   "pygments_lexer": "ipython3",
   "version": "3.5.2"
  }
 },
 "nbformat": 4,
 "nbformat_minor": 2
}
