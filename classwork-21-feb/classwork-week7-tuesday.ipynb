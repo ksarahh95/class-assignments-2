{
 "cells": [
  {
   "cell_type": "markdown",
   "metadata": {
    "collapsed": true
   },
   "source": [
    "## What does each row in cocoli.txt and cocolisp.txt represent?\n",
    "Each row represents the species."
   ]
  },
  {
   "cell_type": "markdown",
   "metadata": {},
   "source": [
    "## mult2 = 4 represent the individual time #"
   ]
  },
  {
   "cell_type": "markdown",
   "metadata": {},
   "source": [
    "## dbh2 = measurement of diameter of biggest breast at census 2"
   ]
  },
  {
   "cell_type": "markdown",
   "metadata": {},
   "source": [
    "## To find genus name:\n",
    "grep CAL2CA cocolisp.txt"
   ]
  },
  {
   "cell_type": "markdown",
   "metadata": {},
   "source": [
    "## Name of genus: Calycophyllum\n"
   ]
  },
  {
   "cell_type": "markdown",
   "metadata": {
    "collapsed": true
   },
   "source": [
    "## What genus is most species rich? Piper\n",
    "sed sed 's/\\s/,/g' cocolisp.txt | cut -d \",\" -f 2|sort|uniq -c|sort -n|grep -w \"1\"| wc -l"
   ]
  },
  {
   "cell_type": "markdown",
   "metadata": {},
   "source": [
    "## # of genera with 1 species? 99"
   ]
  },
  {
   "cell_type": "markdown",
   "metadata": {
    "collapsed": true
   },
   "source": [
    "## Name of species within Bignoniaceae: \n",
    "caucana, rosea"
   ]
  },
  {
   "cell_type": "markdown",
   "metadata": {},
   "source": [
    "## Represents the # of individuals within the community"
   ]
  },
  {
   "cell_type": "code",
   "execution_count": 1,
   "metadata": {
    "collapsed": false
   },
   "outputs": [
    {
     "name": "stdout",
     "output_type": "stream",
     "text": [
      "spcode\tgenus\tspecies\tfamily\n",
      "*\tUnidentified\tspecies\tNA\n",
      "ACACME\tAcacia\tmelanoceras\tFabaceae:mimos.\n",
      "ACALDI\tAcalypha\tdiversifolia\tEuphorbiaceae\n",
      "ACALMA\tAcalypha\tmacrostachya\tEuphorbiaceae\n",
      "ADE1TR\tAdelia\ttriloba\tEuphorbiaceae\n",
      "AEGIPA\tAegiphila\tpanamensis\tVerbenaceae\n",
      "ALBIAD\tAlbizia\tadinocephala\tFabaceae:mimos.\n",
      "ALBIPR\tAlbizia\tprocera\tFabaceae:mimos.\n",
      "ALCHCO\tAlchornea\tcostaricensis\tEuphorbiaceae\n",
      "ALIBED\tAlibertia\tedulis\tRubiaceae\n",
      "ALSEBL\tAlseis\tblackiana\tRubiaceae\n",
      "AMAICO\tAmaioua\tcorymbosa\tRubiaceae\n",
      "ANACEX\tAnacardium\texcelsum\tAnacardiaceae\n",
      "ANDIIN\tAndira\tinermis\tFabaceae:faboid.\n",
      "ANN1\t(Annonaceae)\tsp.1\tAnnonaceae\n",
      "ANNOHA\tAnnona\thayesii\tAnnonaceae\n",
      "ANNOPU\tAnnona\tpurpurea\tAnnonaceae\n",
      "ANNOSP\tAnnona\tspraguei\tAnnonaceae\n",
      "ANTITR\tAntirhea\ttrichantha\tRubiaceae\n",
      "APHEDE\tAphelandra\tscabra\tAcanthaceae\n",
      "ARDIRE\tArdisia\trevoluta\tMyrsinaceae\n",
      "AST2GR\tAstronium\tgraveolens\tAnacardiaceae\n",
      "BACTBA\tBactris\tbarronis\tArecaceae\n",
      "BACTC2\tBactris\tcoloradonis\tArecaceae\n",
      "BACTMA\tBactris\tmajor\tArecaceae\n",
      "BANAGU\tBanara\tguianensis\tFlacourtiaceae\n",
      "BROSAL\tBrosimum\talicastrum\tMoraceae\n",
      "BUNCOD\tBunchosia\todorata\tMalpighiaceae\n",
      "BURSSI\tBursera\tsimaruba\tBurseraceae\n",
      "CAL1WA\tCalycolpus\twarszewiczianus\tMyrtaceae\n",
      "CAL2CA\tCalycophyllum\tcandidissimum\tRubiaceae\n",
      "CAPPFR\tCapparis\tfrondosa\tCapparidaceae\n",
      "CAS1MO\tCassia\tmoschata\tFabaceae:caesal.\n",
      "CASEA1\tCasearia\targuta\tFlacourtiaceae\n",
      "CASEAR\tCasearia\tarborea\tFlacourtiaceae\n",
      "CASECO\tCasearia\tcommersoniana\tFlacourtiaceae\n",
      "CASEGU\tCasearia\tguianensis\tFlacourtiaceae\n",
      "CASESY\tCasearia\tsylvestris\tFlacourtiaceae\n",
      "CASSEL\tCassipourea\telliptica\tRhizophoraceae\n",
      "CAVAPL\tCavanillesia\tplatanifolia\tBombacaceae\n",
      "CECRLO\tCecropia\tlongipes\tCecropiaceae\n",
      "CECROB\tCecropia\tobtusifolia\tCecropiaceae\n",
      "CECRPE\tCecropia\tpeltata\tCecropiaceae\n",
      "CEDROD\tCedrela\todorata\tMeliaceae\n",
      "CHOMSP\tChomelia\tspinosa\tRubiaceae\n",
      "CHR2AR\tChrysophyllum\targenteum\tSapotaceae\n",
      "CHR2CA\tChrysophyllum\tcainito\tSapotaceae\n",
      "CLAVME\tClavija\tmezii\tTheophrastaceae\n",
      "COCCPA\tCoccoloba\tpadiformis\tPolygonaceae\n",
      "COLUGL\tColubrina\tglandulosa\tRhamnaceae\n",
      "COLUHE\tColubrina\theteroneura\tRhamnaceae\n",
      "COPAAR\tCopaifera\taromatica\tFabaceae:caesal.\n",
      "CORDAL\tCordia\talliodora\tBoraginaceae\n",
      "COU2CU\tCoussarea\tcurvigemmia\tRubiaceae\n",
      "CRYOWA\tCryosophila\twarscewiczii\tArecaceae\n",
      "CUPACI\tCupania\tcinerea\tSapindaceae\n",
      "CUPALA\tCupania\tlatifolia\tSapindaceae\n",
      "CUPARU\tCupania\trufescens\tSapindaceae\n",
      "CUPASC\tCupania\tscrobiculata\tSapindaceae\n",
      "CUPASY\tCupania\tsylvatica\tSapindaceae\n",
      "DALBRE\tDalbergia\tretusa\tFabaceae:faboid.\n",
      "DENDAR\tDendropanax\tarboreus\tAraliaceae\n",
      "DIPHRO\tDiphysa\trobinioides\tFabaceae:faboid.\n",
      "ELAEOL\tElaeis\toleifera\tArecaceae\n",
      "ERY2PA\tErythroxylum\tpanamense\tErythroxylaceae\n",
      "EUGECO\tEugenia\tcoloradoensis\tMyrtaceae\n",
      "EUGEPR\tEugenia\tprincipium\tMyrtaceae\n",
      "EUGESA\tEugenia\tsalamensis\tMyrtaceae\n",
      "FARAOC\tFaramea\toccidentalis\tRubiaceae\n",
      "FICUBU\tFicus\tbullenei\tMoraceae\n",
      "FICUCI\tFicus\tcitrifolia\tMoraceae\n",
      "FICUIN\tFicus\tinsipida\tMoraceae\n",
      "FICUMA\tFicus\tmaxima\tMoraceae\n",
      "FISSFE\tFissicalyx\tfendleri\tFabaceae:faboid.\n",
      "GENIAM\tGenipa\tamericana\tRubiaceae\n",
      "GUARGL\tGuarea\tglabra\tMeliaceae\n",
      "GUARGR\tGuarea\tgrandifolia\tMeliaceae\n",
      "GUAZUL\tGuazuma\tulmifolia\tSterculiaceae\n",
      "HEISCO\tHeisteria\tconcinna\tOlacaceae\n",
      "HIRTAM\tHirtella\tamericana\tChrysobalanaceae\n",
      "HIRTRA\tHirtella\tracemosa\tChrysobalanaceae\n",
      "HYMECO\tHymenaea\tcourbaril\tFabaceae:caesal.\n",
      "INGAFA\tInga\tlaurina\tFabaceae:mimos.\n",
      "INGAPU\tInga\tpunctata\tFabaceae:mimos.\n",
      "INGAVE\tInga\tvera\tFabaceae:mimos.\n",
      "IXORFL\tIxora\tfloribunda\tRubiaceae\n",
      "JAC1CA\tJacaranda\tcaucana\tBignoniaceae\n",
      "LACIAG\tLacistema\taggregatum\tFlacourtiaceae\n",
      "LAFOPU\tLafoensia\tpunicifolia\tLythraceae\n",
      "LINDLA\tLindackeria\tlaurina\tFlacourtiaceae\n",
      "LONCLA\tLonchocarpus\tlatifolius\tFabaceae:faboid.\n",
      "LOPIDA\tLopimia\tdasypetala\tMalvaceae\n",
      "LUEHSE\tLuehea\tseemannii\tTiliaceae\n",
      "LUEHSP\tLuehea\tspeciosa\tTiliaceae\n",
      "MACLTI\tChlorophora\ttinctoria\tMoraceae\n",
      "MACRGL\tMacrocnemum\troseum\tRubiaceae\n",
      "MANGIN\tMangifera\tindica\tAnacardiaceae\n",
      "MARGNO\tMargaritaria\tnobilis\tEuphorbiaceae\n",
      "MATAGL\tMatayba\tglaberrima\tSapindaceae\n",
      "MICOAR\tMiconia\targentea\tMelastomataceae\n",
      "MICOBO\tMiconia\tminutiflora\tMelastomataceae\n",
      "MICOIM\tMiconia\timpetiolaris\tMelastomataceae\n",
      "MYRCGA\tMyrcia\tgatunensis\tMyrtaceae\n",
      "MYRILO\tMyriocarpa\tlongipes\tUrticaceae\n",
      "MYROFR\tMyrospermum\tfrutescens\tFabaceae:faboid.\n",
      "NECTGL\tNectandra\tlineata\tLauraceae\n",
      "NECTMA\tNectandra\tmartinicensis\tLauraceae\n",
      "NEEA2\tNeea\tsp.2\tNyctaginaceae\n",
      "NEEADE\tNeea\tdelicatula\tNyctaginaceae\n",
      "OCHRPY\tOchroma\tpyramidale\tBombacaceae\n",
      "OCOTRU\tOcotea\trubrinervis\tLauraceae\n",
      "OENOMA\tOenocarpus\tmapora\tArecaceae\n",
      "ORMOMA\tOrmosia\tmacrocalyx\tFabaceae:faboid.\n",
      "OURALU\tOuratea\tlucens\tOchnaceae\n",
      "PALIGU\tPalicourea\tguianensis\tRubiaceae\n",
      "PHOECI\tPhoebe\tcinnamomifolia\tLauraceae\n",
      "PICRLA\tPicramnia\tlatifolia\tPicramniaceae\n",
      "PIPEA1\tPiper\tarboreum\tPiperaceae\n",
      "PIPEAE\tPiper\taequale\tPiperaceae\n",
      "PIPECO\tPiper\tcordulatum\tPiperaceae\n",
      "PIPECU\tPiper\tculebranum\tPiperaceae\n",
      "PIPEGR\tPiper\tgrande\tPiperaceae\n",
      "PIPEHI\tPiper\thispidum\tPiperaceae\n",
      "PIPERE\tPiper\treticulatum\tPiperaceae\n",
      "PIT1RU\tCojoba\trufescens\tFabaceae:mimos.\n",
      "POCHQU\tPachira\tquinata\tBombacaceae\n",
      "POCHSE\tPachira\tsessilis\tBombacaceae\n",
      "POSOLA\tPosoqueria\tlatifolia\tRubiaceae\n",
      "POUTCA\tPouteria\tcampechiana\tSapotaceae\n",
      "PROCCR\tProckia\tcrucis\tFlacourtiaceae\n",
      "PROTTE\tProtium\ttenuifolium\tBurseraceae\n",
      "PSE1SE\tPseudobombax\tseptenatum\tBombacaceae\n",
      "PSYCAC\tPsychotria\tacuminata\tRubiaceae\n",
      "PSYCG3\tPsychotria\tgrandis\tRubiaceae\n",
      "PSYCHO\tPsychotria\thorizontalis\tRubiaceae\n",
      "PSYCMA\tPsychotria\tmarginata\tRubiaceae\n",
      "RANDFO\tRosenbergiodendron\tformosum\tRubiaceae\n",
      "RAUVLI\tRauvolfia\tlittoralis\tApocynaceae\n",
      "RINOLI\tRinorea\tlindeniana\tViolaceae\n",
      "SAP1SA\tSapindus\tsaponaria\tSapindaceae\n",
      "SCH1ZO\tAttalea\tbutyracea\tArecaceae\n",
      "SCH2MO\tSchefflera\tmorototoni\tAraliaceae\n",
      "SENNDA\tSenna\tdariensis\tFabaceae:caesal.\n",
      "SIPAPA\tSiparuna\tpauciflora\tMonimiaceae\n",
      "SLOATE\tSloanea\tterniflora\tElaeocarpaceae\n",
      "SOLAEX\tSolanum\textensum\tSolanaceae\n",
      "SOLAHA\tSolanum\thayesii\tSolanaceae\n",
      "SOROAF\tSorocea\taffinis\tMoraceae\n",
      "SPONMO\tSpondias\tmombin\tAnacardiaceae\n",
      "SPONRA\tSpondias\tradlkoferi\tAnacardiaceae\n",
      "STEMGR\tStemmadenia\tgrandiflora\tApocynaceae\n",
      "STERAP\tSterculia\tapetala\tSterculiaceae\n",
      "STYLST\tStylogyne\tstandleyi\tMyrsinaceae\n",
      "SWARS1\tSwartzia\tsimplex_var.grandiflora\tFabaceae:caesal.\n",
      "SWARS2\tSwartzia\tsimplex_var.ochnacea\tFabaceae:caesal.\n",
      "SWIEMA\tSwietenia\tmacrophylla\tMeliaceae\n",
      "TAB1RO\tTabebuia\trosea\tBignoniaceae\n",
      "TERMAM\tTerminalia\tamazonia\tCombretaceae\n",
      "TERMOB\tTerminalia\toblonga\tCombretaceae\n",
      "TERNTE\tTernstroemia\ttepezapote\tTheaceae\n",
      "TET4JO\tTetrathylacium\tjohansenii\tFlacourtiaceae\n",
      "THEVAH\tThevetia\tahouai\tApocynaceae\n",
      "TRI2HI\tTrichilia\thirta\tMeliaceae\n",
      "TRI2PL\tTrichilia\tpleeana\tMeliaceae\n",
      "TRI2TO\tTrichilia\tmartiana\tMeliaceae\n",
      "TRI2TU\tTrichilia\ttuberculata\tMeliaceae\n",
      "TRI4GA\tTrichospermum\tgaleottii\tTiliaceae\n",
      "TRIPCU\tTriplaris\tcumingiana\tPolygonaceae\n",
      "TROPRA\tTrophis\tracemosa\tMoraceae\n",
      "TURNPA\tTurnera\tpanamensis\tTurneraceae\n",
      "UN2_CO\tUnidentified\t(howard)sp.2\tNA\n",
      "VERNPA\tVernonanthura\tpatens\tAsteraceae\n",
      "VITECO\tVitex\tcooperi\tVerbenaceae\n",
      "XYL1FR\tXylopia\tfrutescens\tAnnonaceae\n",
      "ZANTP1\tZanthoxylum\tpanamense\tRutaceae\n",
      "ZANTPR\tZanthoxylum\tjuniperinum\tRutaceae\n",
      "ZUELGU\tZuelania\tguidonia\tFlacourtiaceae\n",
      "\n"
     ]
    }
   ],
   "source": [
    "file = open(\"cocolisp.txt\",\"r\")\n",
    "print(file.read())"
   ]
  },
  {
   "cell_type": "code",
   "execution_count": null,
   "metadata": {
    "collapsed": true
   },
   "outputs": [],
   "source": []
  }
 ],
 "metadata": {
  "kernelspec": {
   "display_name": "Python 3",
   "language": "python",
   "name": "python3"
  },
  "language_info": {
   "codemirror_mode": {
    "name": "ipython",
    "version": 3
   },
   "file_extension": ".py",
   "mimetype": "text/x-python",
   "name": "python",
   "nbconvert_exporter": "python",
   "pygments_lexer": "ipython3",
   "version": "3.5.2"
  }
 },
 "nbformat": 4,
 "nbformat_minor": 2
}
