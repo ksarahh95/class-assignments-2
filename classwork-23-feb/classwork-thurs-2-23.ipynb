{
 "cells": [
  {
   "cell_type": "code",
   "execution_count": null,
   "metadata": {
    "collapsed": true
   },
   "outputs": [],
   "source": [
    "import urllib.request\n",
    "from bs4 import BeautifulSoup\n",
    "\n"
   ]
  },
  {
   "cell_type": "code",
   "execution_count": 2,
   "metadata": {
    "collapsed": true
   },
   "outputs": [],
   "source": [
    "family_url = \"http://www.fishbase.org/Nomenclature/NominalSpeciesList.php?family=Abyssocottidae\""
   ]
  },
  {
   "cell_type": "code",
   "execution_count": 3,
   "metadata": {
    "collapsed": true
   },
   "outputs": [],
   "source": [
    "html = urllib.request.urlopen(family_url)\n",
    "html_doc = html.read()\n",
    "html.close()"
   ]
  },
  {
   "cell_type": "code",
   "execution_count": null,
   "metadata": {
    "collapsed": false
   },
   "outputs": [],
   "source": [
    "soup = BeautifulSoup(html_doc)"
   ]
  },
  {
   "cell_type": "code",
   "execution_count": null,
   "metadata": {
    "collapsed": false
   },
   "outputs": [],
   "source": [
    "links = soup.find_all(\"a\")\n",
    "for link in links:\n",
    "    # find all italic tags within each link\n",
    "    italics = link.find_all(\"i\")\n",
    "    for italic in italics:\n",
    "        # this should be the species name\n",
    "        print(italic.string)"
   ]
  },
  {
   "cell_type": "code",
   "execution_count": 6,
   "metadata": {
    "collapsed": true
   },
   "outputs": [],
   "source": [
    "import urllib.request\n",
    "import json\n",
    "\n",
    "api_url = \"https://fishbase.ropensci.org/species/?genus=Platichthys&species=stellatus\"\n",
    "\n",
    "raw_json = urllib.request.urlopen(api_url)\n",
    "decoded_json = raw_json.read().decode('utf-8')\n",
    "parsed_json = json.loads(decoded_json)\n",
    "raw_json.close()"
   ]
  },
  {
   "cell_type": "code",
   "execution_count": 7,
   "metadata": {
    "collapsed": false
   },
   "outputs": [
    {
     "data": {
      "text/plain": [
       "'Found inshore, often in very shallow water and in estuaries during the summer; moving into deeper water in the winter (Ref. 27547).  However, they may occur in deep water throughout the year (Ref. 27547).  Does not venture into water of high salinities (Ref. 28899).  Young and adults move up rivers, as much as 120 km (Ref. 27547).  Benthic (Ref. 58426).  Feeds on crustaceans, worms, small mollusks, brittle stars, and small fishes (Ref. 6885).  Important game fish (Ref. 2850).  Utilized fresh and frozen; eaten steamed, fried, boiled, microwaved, and baked (Ref. 9988).'"
      ]
     },
     "execution_count": 7,
     "metadata": {},
     "output_type": "execute_result"
    }
   ],
   "source": [
    "parsed_json[\"data\"][0][\"Comments\"]"
   ]
  },
  {
   "cell_type": "code",
   "execution_count": 8,
   "metadata": {
    "collapsed": false
   },
   "outputs": [
    {
     "data": {
      "text/plain": [
       "dict_keys(['Length', 'EggPic', 'MDredges', 'DepthRangeRef', 'AuthorRef', 'Comments', 'MaxLengthRef', 'LongevityCapRef', 'Author', 'Species', 'LarvaPic', 'DepthRangeComShallow', 'DepthRangeDeep', 'LongevityWildRef', 'TS', 'Entered', 'UsedasBait', 'Remark', 'MaxWeightRef', 'MCastnets', 'LandingStatistics', 'ImportanceRef', 'PD50', 'Profile', 'MTrawls', 'Source', 'DateModified', 'LTypeComM', 'LTypeMaxF', 'Saltwater', 'GameFish', 'LongevityCaptive', 'ElectroRef', 'MSeines', 'MainCatchingMethod', 'TaxIssue', 'SpeciesRefNo', 'Vulnerability', 'WeightFemale', 'Subfamily', 'PicPreferredName', 'Aquarium', 'MSpears', 'MTraps', 'PictureFemale', 'CommonLengthRef', 'DateChecked', 'AquariumFishII', 'MLiftnets', 'II', 'SpecCode', 'Modified', 'DepthRangeShallow', 'Fresh', 'AquacultureRef', 'Electrogenic', 'GameRef', 'DepthComRef', 'GenCode', 'Landings', 'AnaCat', 'UsedforAquaculture', 'PicPreferredNameM', 'DemersPelag', 'Dangerous', 'MigratRef', 'PicPreferredNameJ', 'BodyShapeI', 'CommonLengthF', 'LifeCycle', 'CommonLength', 'DateEntered', 'LengthFemale', 'AquariumRef', 'LTypeMaxM', 'PriceCateg', 'FamCode', 'GoogleImage', 'PicPreferredNameF', 'DepthRangeComDeep', 'MGillnets', 'LongevityWild', 'Importance', 'Emblematic', 'MOther', 'BaitRef', 'Weight', 'Remarks7', 'Complete', 'DangerousRef', 'Expert', 'Pic', 'PriceReliability', 'MHooksLines', 'FBname', 'Brack', 'LTypeComF', 'Genus', 'SubGenCode'])"
      ]
     },
     "execution_count": 8,
     "metadata": {},
     "output_type": "execute_result"
    }
   ],
   "source": [
    "parsed_json[\"data\"][0].keys()"
   ]
  },
  {
   "cell_type": "code",
   "execution_count": null,
   "metadata": {
    "collapsed": true
   },
   "outputs": [],
   "source": []
  }
 ],
 "metadata": {
  "kernelspec": {
   "display_name": "Python 3",
   "language": "python",
   "name": "python3"
  },
  "language_info": {
   "codemirror_mode": {
    "name": "ipython",
    "version": 3
   },
   "file_extension": ".py",
   "mimetype": "text/x-python",
   "name": "python",
   "nbconvert_exporter": "python",
   "pygments_lexer": "ipython3",
   "version": "3.5.2"
  }
 },
 "nbformat": 4,
 "nbformat_minor": 2
}
